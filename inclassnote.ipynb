{
 "cells": [
  {
   "cell_type": "code",
   "execution_count": null,
   "metadata": {},
   "outputs": [],
   "source": [
    "# b'' is a byte string\n",
    "# r'\\n\\t' is a raw string\n",
    "# f '{vriable1}' is a formatted string"
   ]
  },
  {
   "cell_type": "code",
   "execution_count": null,
   "metadata": {},
   "outputs": [],
   "source": [
    "import re"
   ]
  },
  {
   "cell_type": "code",
   "execution_count": null,
   "metadata": {},
   "outputs": [],
   "source": [
    "# Basic Syntax\n",
    "#.: Matches any single character except newline\n",
    "#^: Matches the start of the string\n",
    "#$: Matches the end of the string\n",
    "#*: Matches 0 or more repetitions of the preceding element\n",
    "#+: Matches 1 or more repetitions of the preceding element\n",
    "#?: Matches 0 or 1 repetition of the preceding element\n",
    "#{n}: Matches exactly n repetitions of the preceding element\n",
    "#{n,}: Matches at least n repetitions of the preceding element\n",
    "#{n,m}: Matches between n and m repetitions of the preceding element\n",
    "#|: Alternation, matches either the pattern before or the pattern after the symbol"
   ]
  },
  {
   "cell_type": "code",
   "execution_count": null,
   "metadata": {},
   "outputs": [],
   "source": [
    "# Email Extraction\n",
    "[\"support@exmaple.com\", \"sales@example.org\"]"
   ]
  }
 ],
 "metadata": {
  "language_info": {
   "name": "python"
  }
 },
 "nbformat": 4,
 "nbformat_minor": 2
}
